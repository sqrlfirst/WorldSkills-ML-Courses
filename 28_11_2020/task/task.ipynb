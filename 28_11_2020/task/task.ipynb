{
 "metadata": {
  "language_info": {
   "codemirror_mode": {
    "name": "ipython",
    "version": 3
   },
   "file_extension": ".py",
   "mimetype": "text/x-python",
   "name": "python",
   "nbconvert_exporter": "python",
   "pygments_lexer": "ipython3",
   "version": "3.6.9-final"
  },
  "orig_nbformat": 2,
  "kernelspec": {
   "name": "python3",
   "display_name": "Python 3.6.9 64-bit",
   "metadata": {
    "interpreter": {
     "hash": "31f2aee4e71d21fbe5cf8b01ff0e069b9275f58929596ceb00d14d90e3e16cd6"
    }
   }
  }
 },
 "nbformat": 4,
 "nbformat_minor": 2,
 "cells": [
  {
   "cell_type": "code",
   "execution_count": 1,
   "metadata": {},
   "outputs": [],
   "source": [
    "import pandas as pd \n",
    "import matplotlib.pyplot as plt\n",
    "import seaborn as sns "
   ]
  },
  {
   "cell_type": "code",
   "execution_count": 5,
   "metadata": {},
   "outputs": [
    {
     "output_type": "stream",
     "name": "stdout",
     "text": [
      "CPU times: user 4 µs, sys: 1 µs, total: 5 µs\nWall time: 9.06 µs\n"
     ]
    },
    {
     "output_type": "execute_result",
     "data": {
      "text/plain": [
       "  Accident_Index   Latitude  Longitude  Region Urban_or_Rural_Area  \\\n",
       "0  201001BS70015  51.492045  -0.178376  London               Urban   \n",
       "1  201001BS70034  51.485058  -0.168572  London               Urban   \n",
       "2  201001BS70040  51.495653  -0.179097  London               Urban   \n",
       "3  201001BS70045  51.494743  -0.195845  London               Urban   \n",
       "4  201001BS70060  51.514170  -0.207760  London               Urban   \n",
       "\n",
       "  X1st_Road_Class  Driver_IMD_Decile  Speed_limit           Road_Type  \\\n",
       "0               A                  2           30    Dual carriageway   \n",
       "1               B                  8           30  Single carriageway   \n",
       "2               C                  7           30  Single carriageway   \n",
       "3               A                  7           30  Single carriageway   \n",
       "4               B                  5           30  Single carriageway   \n",
       "\n",
       "  Road_Surface_Conditions  ...                      Junction_Detail  \\\n",
       "0             Wet or damp  ...                           Crossroads   \n",
       "1                     Dry  ...              T or staggered junction   \n",
       "2                     Dry  ...  Not at junction or within 20 metres   \n",
       "3             Wet or damp  ...  Not at junction or within 20 metres   \n",
       "4             Wet or damp  ...                           Crossroads   \n",
       "\n",
       "                              Junction_Location X1st_Point_of_Impact  \\\n",
       "0  Mid Junction - on roundabout or on main road                Front   \n",
       "1  Mid Junction - on roundabout or on main road                Front   \n",
       "2        Not at or within 20 metres of junction                Front   \n",
       "3        Not at or within 20 metres of junction              Offside   \n",
       "4  Mid Junction - on roundabout or on main road                Front   \n",
       "\n",
       "  Driver_Journey_Purpose  Engine_CC  Propulsion_Code  Vehicle_Make  \\\n",
       "0        Other/Not known       1896        Heavy oil    Volkswagen   \n",
       "1        Other/Not known        599           Petrol         Honda   \n",
       "2        Other/Not known       1781           Petrol          Audi   \n",
       "3        Other/Not known        649           Petrol         Other   \n",
       "4        Other/Not known        600           Petrol        Suzuki   \n",
       "\n",
       "   Vehicle_Category  Vehicle_Manoeuvre  Accident_Severity  \n",
       "0              Taxi        Going ahead             Slight  \n",
       "1        Motorcycle        Going ahead             Slight  \n",
       "2               Car        Going ahead             Slight  \n",
       "3        Motorcycle         Moving off             Slight  \n",
       "4        Motorcycle        Going ahead             Slight  \n",
       "\n",
       "[5 rows x 33 columns]"
      ],
      "text/html": "<div>\n<style scoped>\n    .dataframe tbody tr th:only-of-type {\n        vertical-align: middle;\n    }\n\n    .dataframe tbody tr th {\n        vertical-align: top;\n    }\n\n    .dataframe thead th {\n        text-align: right;\n    }\n</style>\n<table border=\"1\" class=\"dataframe\">\n  <thead>\n    <tr style=\"text-align: right;\">\n      <th></th>\n      <th>Accident_Index</th>\n      <th>Latitude</th>\n      <th>Longitude</th>\n      <th>Region</th>\n      <th>Urban_or_Rural_Area</th>\n      <th>X1st_Road_Class</th>\n      <th>Driver_IMD_Decile</th>\n      <th>Speed_limit</th>\n      <th>Road_Type</th>\n      <th>Road_Surface_Conditions</th>\n      <th>...</th>\n      <th>Junction_Detail</th>\n      <th>Junction_Location</th>\n      <th>X1st_Point_of_Impact</th>\n      <th>Driver_Journey_Purpose</th>\n      <th>Engine_CC</th>\n      <th>Propulsion_Code</th>\n      <th>Vehicle_Make</th>\n      <th>Vehicle_Category</th>\n      <th>Vehicle_Manoeuvre</th>\n      <th>Accident_Severity</th>\n    </tr>\n  </thead>\n  <tbody>\n    <tr>\n      <th>0</th>\n      <td>201001BS70015</td>\n      <td>51.492045</td>\n      <td>-0.178376</td>\n      <td>London</td>\n      <td>Urban</td>\n      <td>A</td>\n      <td>2</td>\n      <td>30</td>\n      <td>Dual carriageway</td>\n      <td>Wet or damp</td>\n      <td>...</td>\n      <td>Crossroads</td>\n      <td>Mid Junction - on roundabout or on main road</td>\n      <td>Front</td>\n      <td>Other/Not known</td>\n      <td>1896</td>\n      <td>Heavy oil</td>\n      <td>Volkswagen</td>\n      <td>Taxi</td>\n      <td>Going ahead</td>\n      <td>Slight</td>\n    </tr>\n    <tr>\n      <th>1</th>\n      <td>201001BS70034</td>\n      <td>51.485058</td>\n      <td>-0.168572</td>\n      <td>London</td>\n      <td>Urban</td>\n      <td>B</td>\n      <td>8</td>\n      <td>30</td>\n      <td>Single carriageway</td>\n      <td>Dry</td>\n      <td>...</td>\n      <td>T or staggered junction</td>\n      <td>Mid Junction - on roundabout or on main road</td>\n      <td>Front</td>\n      <td>Other/Not known</td>\n      <td>599</td>\n      <td>Petrol</td>\n      <td>Honda</td>\n      <td>Motorcycle</td>\n      <td>Going ahead</td>\n      <td>Slight</td>\n    </tr>\n    <tr>\n      <th>2</th>\n      <td>201001BS70040</td>\n      <td>51.495653</td>\n      <td>-0.179097</td>\n      <td>London</td>\n      <td>Urban</td>\n      <td>C</td>\n      <td>7</td>\n      <td>30</td>\n      <td>Single carriageway</td>\n      <td>Dry</td>\n      <td>...</td>\n      <td>Not at junction or within 20 metres</td>\n      <td>Not at or within 20 metres of junction</td>\n      <td>Front</td>\n      <td>Other/Not known</td>\n      <td>1781</td>\n      <td>Petrol</td>\n      <td>Audi</td>\n      <td>Car</td>\n      <td>Going ahead</td>\n      <td>Slight</td>\n    </tr>\n    <tr>\n      <th>3</th>\n      <td>201001BS70045</td>\n      <td>51.494743</td>\n      <td>-0.195845</td>\n      <td>London</td>\n      <td>Urban</td>\n      <td>A</td>\n      <td>7</td>\n      <td>30</td>\n      <td>Single carriageway</td>\n      <td>Wet or damp</td>\n      <td>...</td>\n      <td>Not at junction or within 20 metres</td>\n      <td>Not at or within 20 metres of junction</td>\n      <td>Offside</td>\n      <td>Other/Not known</td>\n      <td>649</td>\n      <td>Petrol</td>\n      <td>Other</td>\n      <td>Motorcycle</td>\n      <td>Moving off</td>\n      <td>Slight</td>\n    </tr>\n    <tr>\n      <th>4</th>\n      <td>201001BS70060</td>\n      <td>51.514170</td>\n      <td>-0.207760</td>\n      <td>London</td>\n      <td>Urban</td>\n      <td>B</td>\n      <td>5</td>\n      <td>30</td>\n      <td>Single carriageway</td>\n      <td>Wet or damp</td>\n      <td>...</td>\n      <td>Crossroads</td>\n      <td>Mid Junction - on roundabout or on main road</td>\n      <td>Front</td>\n      <td>Other/Not known</td>\n      <td>600</td>\n      <td>Petrol</td>\n      <td>Suzuki</td>\n      <td>Motorcycle</td>\n      <td>Going ahead</td>\n      <td>Slight</td>\n    </tr>\n  </tbody>\n</table>\n<p>5 rows × 33 columns</p>\n</div>"
     },
     "metadata": {},
     "execution_count": 5
    }
   ],
   "source": [
    "\n",
    "accidents_ds = pd.read_csv('Accidents_categorical.csv')\n",
    "accidents_ds.head()"
   ]
  }
 ]
}